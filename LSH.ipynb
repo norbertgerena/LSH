{
 "cells": [
  {
   "cell_type": "markdown",
   "id": "f9a1648d",
   "metadata": {},
   "source": [
    "# Locality-Sensitive Hashing and Functions\n",
    "\n",
    "Prepared by: Norbert Paul R. Gerena"
   ]
  },
  {
   "cell_type": "code",
   "execution_count": 2,
   "id": "0f79ea3b",
   "metadata": {
    "ExecuteTime": {
     "end_time": "2023-01-16T00:46:01.133137Z",
     "start_time": "2023-01-16T00:45:59.780914Z"
    }
   },
   "outputs": [
    {
     "name": "stderr",
     "output_type": "stream",
     "text": [
      "Matplotlib created a temporary config/cache directory at /tmp/matplotlib-kueo5cc8 because the default path (/home/ngerena/.cache/matplotlib) is not a writable directory; it is highly recommended to set the MPLCONFIGDIR environment variable to a writable directory, in particular to speed up the import of Matplotlib and to better support multiprocessing.\n"
     ]
    }
   ],
   "source": [
    "import matplotlib.pyplot as plt\n",
    "import numpy as np"
   ]
  },
  {
   "cell_type": "markdown",
   "id": "1f14b66f",
   "metadata": {},
   "source": [
    "1. Intro/Motivations to LSH\n",
    "2. Review\n",
    "2. LSH for MinHash Signatures\n",
    "    * review of signature Matrix\n",
    "    * general idea\n",
    "    * Banding technique\n",
    "    * Math\n",
    "        * show intuition of the choice of b and r. ex. b =1 is 100% similar\n",
    "    \n",
    "4. LS function (general lsh)\n",
    "    * how about other distance metrics?\n",
    "        * metric space definition\n",
    "    * definition\n",
    "        * sensitivity\n",
    "    * And-or combo\n",
    "    * cascading>\n",
    "    * how about for other distance metrics?\n",
    "    * effect of number of hash functions to O and to sensitivity\n",
    "    \n",
    "5. Examples"
   ]
  },
  {
   "cell_type": "markdown",
   "id": "c503e751",
   "metadata": {},
   "source": [
    "## Flow of Discussion\n",
    "\n",
    "1. Introduction and Motivation to LSH\n",
    "2. Review of hashing and MinHash Signature Matrix\n",
    "3. LSH for Jaccard Distance\n",
    "4. Generalizing LSH\n",
    "5. Applications"
   ]
  },
  {
   "cell_type": "markdown",
   "id": "b177284a",
   "metadata": {},
   "source": [
    "## I. Introduction\n",
    "\n",
    "In this notebook, we will be discussing Locality-Sensitive Hashing (LSH) and its applications.\n",
    "\n",
    "Why locality?\n",
    "\n",
    "Why not compute it as needed?\n",
    "\n",
    "Why use hashing?\n",
    "\n",
    "Note: The structure and contents of this notebook is mainly based on the first reference [1]."
   ]
  },
  {
   "cell_type": "markdown",
   "id": "b2445175",
   "metadata": {},
   "source": [
    "## II. Review of Hashing and MinHash Signature Matrix\n",
    "\n",
    "Hashing in the context of LSH\n",
    "\n",
    "Shorter signature means we can fit it to memory\n",
    "Jaccard Sim (shingles) $\\approx$ Hamming Sim (Sigs)"
   ]
  },
  {
   "cell_type": "markdown",
   "id": "c41ad61e",
   "metadata": {},
   "source": [
    "## III. LSH for Jaccard Distance (Using the MinHash Signature Matrix) \n",
    "\n",
    "**General Idea:** For a huge set of elements, we do not want to evaluate the similarity of every pair of elements. Our goal for LSH is to generate from these collection of elements, a small list of potentially similar pairs or candidate pairs. We can then evaluate the similarity of these candidate pairs.\n",
    "\n",
    "**We can generate candidate pairs directly from the MinHash signature**\n",
    "\n",
    "Even if the MinHash signature matrix has significantly lower rows, we still need to evaluate $num. sets \\choose 2$ pairs.\n",
    "\n",
    "### LSH for MinHash Signature Matrix\n",
    "\n",
    "1. Divide the signature matrix $M$ into $b$ bands and $r$ rows per band.\n",
    "\n",
    "![](images/lsh1.png)\n",
    "\n",
    "2. Per band, apply a hash function. We can use the same hash function for all bands but each band must have its own hash table.\n",
    "\n",
    "![](images/lsh2.png)\n",
    "\n",
    "3. Candidate column pairs are those that hash to the same bucket for $\\ge$ 1 band\n",
    "\n",
    "**Let's look at the math of the LSH function described above**\n",
    "\n",
    "1. Let's assume that columns $C_1$ and $C_2$ have similarity $s$.\n",
    "2. The probability that row n of $C_1$ and row n of $C_2$ are equal is approximately $s$, since we are dealing with the MinHash Signature.\n",
    "3. Within a band, the probability that all rows are equal is $s^r$. Conversely, the probability that some rows are not equal is $1-s^r$.\n",
    "4. The probability that not bands are identical is $(1-s^r)^b$\n",
    "5. Finally, the probability that at least 1 band is identical is $1-(1-s^r)^b$\n",
    "\n",
    "Let's look at the characteristics of this function."
   ]
  },
  {
   "cell_type": "code",
   "execution_count": 3,
   "id": "d9d41ecf",
   "metadata": {
    "ExecuteTime": {
     "end_time": "2023-01-16T00:46:04.749228Z",
     "start_time": "2023-01-16T00:46:04.471661Z"
    }
   },
   "outputs": [
    {
     "data": {
      "image/png": "[encoded data removed]",
      "text/plain": [
       "<Figure size 432x288 with 1 Axes>"
      ]
     },
     "metadata": {
      "needs_background": "light"
     },
     "output_type": "display_data"
    }
   ],
   "source": [
    "#relationship of r and b to the s-curve\n",
    "r = 4\n",
    "b = 25\n",
    "\n",
    "def sfunc(x, r, b):\n",
    "    return 1 - (1-x**r)**b\n",
    "\n",
    "xs = np.arange(0,1.01, 0.01)\n",
    "ys = list(map(lambda x: sfunc(x, r, b), xs))\n",
    "plt.plot(xs, ys)\n",
    "plt.title('The S-curve ($1-(1-s^r)^b$)');\n",
    "plt.xlabel('Similarity')\n",
    "plt.ylabel('Prob. sharing a bucket')\n",
    "\n",
    "t = (1/b)**(1/r) #the treshold depends on b and r\n",
    "plt.axvline(t, c='r');"
   ]
  },
  {
   "cell_type": "markdown",
   "id": "92f8f7e0",
   "metadata": {},
   "source": [
    "If the size of the signature matrix is fixed we can find the combination of r and b such that the similarity threshold $t$ is near $(1/b)^{(1/r)}$. We can make this lower than $t$ if we want to reduce the false negatives. Note that this can increase the false positives, hence we have to evaluate more pairs.\n",
    "\n",
    "* Larger $r$ means we want higher similarity\n",
    "* Lager $b$ means a higher  chance that a pair will be a candidate pair"
   ]
  },
  {
   "cell_type": "markdown",
   "id": "ce8a2e16",
   "metadata": {},
   "source": [
    "### The Ideal S-Curve\n",
    "\n",
    "![](images/idealcurve.png)"
   ]
  },
  {
   "cell_type": "markdown",
   "id": "4126abf4",
   "metadata": {},
   "source": [
    "Is this really faster??"
   ]
  },
  {
   "cell_type": "markdown",
   "id": "ce493483",
   "metadata": {},
   "source": [
    "## IV. General LSH\n",
    "\n",
    "The procedure described in the previous section is not the only LSH function. \n",
    "\n",
    "Can we use different similarity metric asside from Jaccard?\n",
    "\n",
    "Can we apply OR on rows first then AND on buckets?\n",
    "\n",
    "Yes, we can generalize LSH!"
   ]
  },
  {
   "cell_type": "markdown",
   "id": "79620d1c",
   "metadata": {},
   "source": [
    "### Review of Distance Metrics"
   ]
  },
  {
   "cell_type": "markdown",
   "id": "5bbc1458",
   "metadata": {},
   "source": [
    "### LSH Families of Hash Functions\n",
    "\n"
   ]
  },
  {
   "cell_type": "markdown",
   "id": "8640479c",
   "metadata": {},
   "source": [
    "## References\n",
    "\n",
    "1. Jure Leskovec , Anand Rajaraman, and Jeffrey D Ullman. *Mining of massive datasets*.Cambridge university press, 3rd edition, 2019. URL http://www.mmds.org/, chapter 3.\n",
    "\n",
    "2. Jure Leskovec , Anand Rajaraman, and Jeffrey D Ullman, *Finding Similar Items: Locality Sensitive Hashing* [PowerPoint slides]. http://infolab.stanford.edu/~ullman/mmds/ch3n.pdf."
   ]
  },
  {
   "cell_type": "code",
   "execution_count": null,
   "id": "8132b38c",
   "metadata": {},
   "outputs": [],
   "source": []
  }
 ],
 "metadata": {
  "kernelspec": {
   "display_name": "Python 3 (ipykernel)",
   "language": "python",
   "name": "python3"
  },
  "language_info": {
   "codemirror_mode": {
    "name": "ipython",
    "version": 3
   },
   "file_extension": ".py",
   "mimetype": "text/x-python",
   "name": "python",
   "nbconvert_exporter": "python",
   "pygments_lexer": "ipython3",
   "version": "3.9.13"
  }
 },
 "nbformat": 4,
 "nbformat_minor": 5
}
