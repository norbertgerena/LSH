{
 "cells": [
  {
   "cell_type": "markdown",
   "id": "f9a1648d",
   "metadata": {},
   "source": [
    "# Locality-Sensitive Hashing and Functions\n",
    "\n",
    "Prepared by: Norbert Paul R. Gerena"
   ]
  },
  {
   "cell_type": "markdown",
   "id": "1f14b66f",
   "metadata": {},
   "source": [
    "1. Intro/Motivations to LSH\n",
    "2. LSH Banding technique\n",
    "    * review of signature Matrix\n",
    "    * Banding technique\n",
    "    * Math\n",
    "        * show intuition of the choice of b and r. ex. b =1 is 100% similar\n",
    "    \n",
    "3. Implementation?\n",
    "4. LS function\n",
    "    * definition\n",
    "        * sensitivity\n",
    "    * And-or combo\n",
    "    * how about for other distance metrics?\n",
    "    * effect of number of hash functions to O and to sensitivity\n",
    "    \n",
    "5. Examples"
   ]
  },
  {
   "cell_type": "markdown",
   "id": "b177284a",
   "metadata": {},
   "source": [
    "## Introduction\n",
    "\n",
    "The structure and contents of this notebook is mainly based on the first reference [1]."
   ]
  },
  {
   "cell_type": "markdown",
   "id": "8640479c",
   "metadata": {},
   "source": [
    "## References\n",
    "\n",
    "1. Jure Leskovec , Anand Rajaraman, and Jeffrey D Ullman. Mining of massive datasets.\n",
    "Cambridge university press, 3rd edition, 2019. URL http://www.mmds.org/, chapter 3."
   ]
  },
  {
   "cell_type": "code",
   "execution_count": null,
   "id": "8132b38c",
   "metadata": {},
   "outputs": [],
   "source": []
  }
 ],
 "metadata": {
  "kernelspec": {
   "display_name": "Python 3 (ipykernel)",
   "language": "python",
   "name": "python3"
  },
  "language_info": {
   "codemirror_mode": {
    "name": "ipython",
    "version": 3
   },
   "file_extension": ".py",
   "mimetype": "text/x-python",
   "name": "python",
   "nbconvert_exporter": "python",
   "pygments_lexer": "ipython3",
   "version": "3.9.13"
  }
 },
 "nbformat": 4,
 "nbformat_minor": 5
}
