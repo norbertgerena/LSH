{
 "cells": [
  {
   "cell_type": "markdown",
   "id": "f9a1648d",
   "metadata": {},
   "source": [
    "# Locality-Sensitive Hashing and Functions\n",
    "\n",
    "Prepared by: Norbert Paul R. Gerena"
   ]
  },
  {
   "cell_type": "code",
   "execution_count": 2,
   "id": "0f79ea3b",
   "metadata": {
    "ExecuteTime": {
     "end_time": "2023-01-16T00:46:01.133137Z",
     "start_time": "2023-01-16T00:45:59.780914Z"
    }
   },
   "outputs": [
    {
     "name": "stderr",
     "output_type": "stream",
     "text": [
      "Matplotlib created a temporary config/cache directory at /tmp/matplotlib-kueo5cc8 because the default path (/home/ngerena/.cache/matplotlib) is not a writable directory; it is highly recommended to set the MPLCONFIGDIR environment variable to a writable directory, in particular to speed up the import of Matplotlib and to better support multiprocessing.\n"
     ]
    }
   ],
   "source": [
    "import matplotlib.pyplot as plt\n",
    "import numpy as np"
   ]
  },
  {
   "cell_type": "markdown",
   "id": "c503e751",
   "metadata": {},
   "source": [
    "## Flow of Discussion\n",
    "\n",
    "1. Introduction and Motivation to LSH\n",
    "2. Review of hashing and MinHash Signature Matrix\n",
    "3. LSH for Jaccard Distance\n",
    "4. Generalizing LSH\n",
    "6. Putting it all together\n",
    "5. Applications"
   ]
  },
  {
   "cell_type": "markdown",
   "id": "b177284a",
   "metadata": {},
   "source": [
    "## I. Introduction\n",
    "\n",
    "In this notebook, we will be discussing Locality-Sensitive Hashing (LSH) and its applications.\n",
    "\n",
    "Why locality?\n",
    "\n",
    "Why not compute it as needed?\n",
    "\n",
    "Why use hashing?\n",
    "\n",
    "Note: The structure and contents of this notebook is mainly based on the first reference [1]."
   ]
  },
  {
   "cell_type": "markdown",
   "id": "b2445175",
   "metadata": {},
   "source": [
    "## II. Review of Hashing and MinHash Signature Matrix\n",
    "\n",
    "Hashing in the context of LSH\n",
    "\n",
    "Shorter signature means we can fit it to memory\n",
    "Jaccard Sim (shingles) $\\approx$ Hamming Sim (Sigs)"
   ]
  },
  {
   "cell_type": "markdown",
   "id": "c41ad61e",
   "metadata": {},
   "source": [
    "## III. LSH for Jaccard Distance (Using the MinHash Signature Matrix) \n",
    "\n",
    "**General Idea:** For a huge set of elements, we do not want to evaluate the similarity of every pair of elements. Our goal for LSH is to generate from these collection of elements, a small list of potentially similar pairs or candidate pairs. We can then evaluate the similarity of these candidate pairs.\n",
    "\n",
    "**We can generate candidate pairs directly from the MinHash signature**\n",
    "\n",
    "Even if the MinHash signature matrix has significantly lower rows, we still need to evaluate $num. sets \\choose 2$ pairs.\n",
    "\n",
    "### LSH for MinHash Signature Matrix\n",
    "\n",
    "1. Divide the signature matrix $M$ into $b$ bands and $r$ rows per band.\n",
    "\n",
    "![](images/lsh1.png)\n",
    "\n",
    "2. Per band, apply a hash function. We can use the same hash function for all bands but each band must have its own hash table.\n",
    "\n",
    "![](images/lsh2.png)\n",
    "\n",
    "3. Candidate column pairs are those that hash to the same bucket for $\\ge$ 1 band\n",
    "\n",
    "**Let's look at the math of the LSH function described above**\n",
    "\n",
    "1. Let's assume that columns $C_1$ and $C_2$ have similarity $s$.\n",
    "2. The probability that row n of $C_1$ and row n of $C_2$ are equal is approximately $s$, since we are dealing with the MinHash Signature.\n",
    "3. Within a band, the probability that all rows are equal is $s^r$. Conversely, the probability that some rows are not equal is $1-s^r$.\n",
    "4. The probability that not bands are identical is $(1-s^r)^b$\n",
    "5. Finally, the probability that at least 1 band is identical is $1-(1-s^r)^b$\n",
    "\n",
    "Let's look at the characteristics of this function."
   ]
  },
  {
   "cell_type": "code",
   "execution_count": 3,
   "id": "d9d41ecf",
   "metadata": {
    "ExecuteTime": {
     "end_time": "2023-01-16T00:46:04.749228Z",
     "start_time": "2023-01-16T00:46:04.471661Z"
    }
   },
   "outputs": [
    {
     "data": {
      "image/png": "[encoded data removed]",
      "text/plain": [
       "<Figure size 432x288 with 1 Axes>"
      ]
     },
     "metadata": {
      "needs_background": "light"
     },
     "output_type": "display_data"
    }
   ],
   "source": [
    "#relationship of r and b to the s-curve\n",
    "r = 4\n",
    "b = 25\n",
    "\n",
    "def sfunc(x, r, b):\n",
    "    return 1 - (1-x**r)**b\n",
    "\n",
    "xs = np.arange(0,1.01, 0.01)\n",
    "ys = list(map(lambda x: sfunc(x, r, b), xs))\n",
    "plt.plot(xs, ys)\n",
    "plt.title('The S-curve ($1-(1-s^r)^b$)');\n",
    "plt.xlabel('Similarity')\n",
    "plt.ylabel('Prob. sharing a bucket')\n",
    "\n",
    "t = (1/b)**(1/r) #the treshold depends on b and r\n",
    "plt.axvline(t, c='r');"
   ]
  },
  {
   "cell_type": "markdown",
   "id": "92f8f7e0",
   "metadata": {},
   "source": [
    "If the size of the signature matrix is fixed we can find the combination of r and b such that the similarity threshold $t$ is near $(1/b)^{(1/r)}$. We can make this lower than $t$ if we want to reduce the false negatives. Note that this can increase the false positives, hence we have to evaluate more pairs.\n",
    "\n",
    "* Larger $r$ means we want higher similarity\n",
    "* Lager $b$ means a higher  chance that a pair will be a candidate pair"
   ]
  },
  {
   "cell_type": "markdown",
   "id": "ce8a2e16",
   "metadata": {},
   "source": [
    "### The Ideal S-Curve\n",
    "\n",
    "![](images/idealcurve.png)"
   ]
  },
  {
   "cell_type": "markdown",
   "id": "4126abf4",
   "metadata": {},
   "source": [
    "We want a steep S-curve!\n",
    "\n",
    "Is this really faster??"
   ]
  },
  {
   "cell_type": "markdown",
   "id": "ce493483",
   "metadata": {},
   "source": [
    "## IV. General LSH\n",
    "\n",
    "The procedure described in the previous section is not the only LSH function. \n",
    "\n",
    "Can we use different similarity metric asside from Jaccard?\n",
    "\n",
    "Can we apply OR on rows first then AND on buckets?\n",
    "\n",
    "Yes, we can generalize LSH!"
   ]
  },
  {
   "cell_type": "markdown",
   "id": "5bbc1458",
   "metadata": {},
   "source": [
    "### LSH Families of Hash Functions\n",
    "\n",
    "Again, hash functions in the context of LSH is bit different.\n",
    "\n",
    "An LSH hash function takes two sets, $x$ and $y$, and returns a decision whether these two sets are candidate for comparison.\n",
    "\n",
    "For example, given a set of minhash functions $h$, we can have a simple LSH function such that if $h(x)=h(y)$, then $x$ and $y$ are candidate pairs.\n",
    "\n",
    "We will use this shorthand $h(x)=h(y)$, to mean that \"h says yes\".\n",
    "#### LSH Family Definition\n",
    "\n",
    "Suppose we have a metric space with a set of points $S$ and a distance metric $d$.\n",
    "\n",
    "A family $H$ of hash functions is said to be $(d_1, d_2, p_1, p_2)$-sensitive if for any points $x,y \\in S$:\n",
    "\n",
    "1. If $d(x,y)\\le d_1$, then the probability over all $h$ in $H$, that $h(x)=h(y)$ is at least $p_1$.\n",
    "2. If $d(x,y)\\ge d_2$, then the probability over all $h$ in $H$, that $h(x)=h(y)$ is at most $p_2$.\n",
    "\n",
    "Note that $d_1 < d_2$.\n",
    "\n",
    "![](images/generalcurve.png)\n",
    "\n",
    "* We want $d_1$ and $d_2$ to be as close as possible while maintaining a big gap in $p_1$ and $p_2$."
   ]
  },
  {
   "cell_type": "markdown",
   "id": "899f4517",
   "metadata": {},
   "source": [
    "**Let's look at the LSH-Family using Jaccard Distance**\n",
    "\n",
    "For a set of points S and d equal to the Jaccard distance. We can construct a family of minhash functions $H$ consisting of all permutations, such that $H$ is a $(d_1, d_2,1-d_1, 1-d_2)$-sensitive family for S and D.\n",
    "\n",
    "This LSH family will not give us the ideal curve. \n",
    "\n",
    "Why?\n",
    "\n",
    "### Amplifying the S-Curve\n",
    "\n",
    "Recall our shorthand, $h(x)=h(y)$. We can make the definition of LSH family more general by making this definition more flexible.\n",
    "\n",
    "For example we can have an **AND-construction** from the original set $H$ to generate a new family $H'$:\n",
    "\n",
    "1. Suppose $H$ consists of $\\{h_1, h_2, h_3, ...\\}$, we can construct $H'=\\{ h'_1, h'_2, h'_3,...\\}$, such that $h' = \\{ h_1,...,h_r\\}$.\n",
    "2. Now, $h'(x)=h'(y)$ if and only if $h_i(x)=h_i(y)$ for all $i$.\n",
    "\n",
    "What's the sensitivity of $H'$?\n",
    "\n",
    "$(d_1, d_2, (1-d_1)^r, (1-d_2)^r)$"
   ]
  },
  {
   "cell_type": "code",
   "execution_count": 11,
   "id": "dcfc12c0",
   "metadata": {
    "ExecuteTime": {
     "end_time": "2023-01-16T03:10:08.933560Z",
     "start_time": "2023-01-16T03:10:08.789628Z"
    }
   },
   "outputs": [
    {
     "data": {
      "image/png": "[encoded data removed]",
      "text/plain": [
       "<Figure size 432x288 with 1 Axes>"
      ]
     },
     "metadata": {
      "needs_background": "light"
     },
     "output_type": "display_data"
    }
   ],
   "source": [
    "r = 4\n",
    "xs = np.arange(0,1.01,0.1)\n",
    "ys = list(map(lambda x: (1-x)**r,xs))\n",
    "plt.plot(xs,ys);"
   ]
  },
  {
   "cell_type": "markdown",
   "id": "74ca834b",
   "metadata": {},
   "source": [
    "* The **AND-construction** makes the probability of $d_2$ closer to zero. Meaning, we are reducing the false positives.\n",
    "* Tweak $r$ such that the the desired $d_2$ will have a very small probability"
   ]
  },
  {
   "cell_type": "markdown",
   "id": "a08563b7",
   "metadata": {},
   "source": [
    "**OR-Construction**\n",
    "\n",
    "1. Suppose $H$ consists of $\\{h_1, h_2, h_3, ...\\}$, we can construct $H'=\\{ h'_1, h'_2, h'_3,...\\}$, such that $h' = \\{ h_1,...,h_b\\}$.\n",
    "2. Now, $h'(x)=h'(y)$ if and only if $h_i(x)=h_i(y)$ for for at least 1 $i$.\n",
    "\n",
    "What's the sensitivity of $H'$?\n",
    "\n",
    "$(d_1, d_2, 1-(d_1)^b, 1-(d_2)^b)$"
   ]
  },
  {
   "cell_type": "code",
   "execution_count": 10,
   "id": "080dfcd0",
   "metadata": {
    "ExecuteTime": {
     "end_time": "2023-01-16T03:07:53.292818Z",
     "start_time": "2023-01-16T03:07:53.160802Z"
    }
   },
   "outputs": [
    {
     "data": {
      "image/png": "[encoded data removed]",
      "text/plain": [
       "<Figure size 432x288 with 1 Axes>"
      ]
     },
     "metadata": {
      "needs_background": "light"
     },
     "output_type": "display_data"
    }
   ],
   "source": [
    "b = 5\n",
    "xs = np.arange(0,1.01,0.1)\n",
    "ys = list(map(lambda x: 1-x**b,xs))\n",
    "plt.plot(xs,ys);"
   ]
  },
  {
   "cell_type": "markdown",
   "id": "ed71de70",
   "metadata": {},
   "source": [
    "* The **OR-construction** makes the probability of $d_1$ closer to 1. Meaning, we are decreasing the false negatives.\n",
    "* Tweak $b$ such that the the desired $d_1$ will have a very high probability"
   ]
  },
  {
   "cell_type": "markdown",
   "id": "794414d8",
   "metadata": {},
   "source": [
    "### Composing Constructions\n",
    "\n",
    "The **AND-construction** and the **OR-construction** by themselves can not give us the ideal S-curve that we want. We can compose an **AND-OR construction** as described in the **LSH for MinHash Signature Matrix** example.\n",
    "\n",
    "In that example, we were able to create a LSH Family with a sensitivity of $(d_1, d_2, 1-(1-(1-d_1)^r)^b, 1-(1-(1-d_2)^r)^b)$"
   ]
  },
  {
   "cell_type": "code",
   "execution_count": 15,
   "id": "8f3d8de0",
   "metadata": {
    "ExecuteTime": {
     "end_time": "2023-01-16T03:21:54.422531Z",
     "start_time": "2023-01-16T03:21:54.283676Z"
    }
   },
   "outputs": [
    {
     "data": {
      "image/png": "[encoded data removed]",
      "text/plain": [
       "<Figure size 432x288 with 1 Axes>"
      ]
     },
     "metadata": {
      "needs_background": "light"
     },
     "output_type": "display_data"
    }
   ],
   "source": [
    "r= 5\n",
    "b = 10\n",
    "xs = np.arange(0,1.01,0.1)\n",
    "ys = list(map(lambda x: 1-(1-(1-x)**r)**b,xs))\n",
    "plt.plot(xs,ys);"
   ]
  },
  {
   "cell_type": "markdown",
   "id": "2f50d8cb",
   "metadata": {},
   "source": [
    "* We can make the S-curve even better by cascading the constructions. However this means more memory usage since we need to construct more hash tables."
   ]
  },
  {
   "cell_type": "markdown",
   "id": "796f64d4",
   "metadata": {},
   "source": [
    "### LSH Families for Other Distance Metrics\n",
    "\n",
    "So far we have constructed several LSH Families from the family of MinHash functions (which approximates the Jaccard distance).\n",
    "\n",
    "How can we construct a family of hash functions for other distance metrics?\n",
    "\n",
    "#### Review of Distance Metrics\n",
    "\n",
    "Definition:\n",
    "\n",
    "**Examples**\n",
    "\n",
    "1. Euclidean distance\n",
    "2. Cosine distance\n",
    "3. Hamming distance\n",
    "\n"
   ]
  },
  {
   "cell_type": "markdown",
   "id": "8640479c",
   "metadata": {},
   "source": [
    "## References\n",
    "\n",
    "1. Jure Leskovec , Anand Rajaraman, and Jeffrey D Ullman. *Mining of massive datasets*.Cambridge university press, 3rd edition, 2019. URL http://www.mmds.org/, chapter 3.\n",
    "\n",
    "2. Jure Leskovec , Anand Rajaraman, and Jeffrey D Ullman, *Finding Similar Items: Locality Sensitive Hashing* [PowerPoint slides]. http://infolab.stanford.edu/~ullman/mmds/ch3n.pdf."
   ]
  }
 ],
 "metadata": {
  "kernelspec": {
   "display_name": "Python 3 (ipykernel)",
   "language": "python",
   "name": "python3"
  },
  "language_info": {
   "codemirror_mode": {
    "name": "ipython",
    "version": 3
   },
   "file_extension": ".py",
   "mimetype": "text/x-python",
   "name": "python",
   "nbconvert_exporter": "python",
   "pygments_lexer": "ipython3",
   "version": "3.9.13"
  }
 },
 "nbformat": 4,
 "nbformat_minor": 5
}
