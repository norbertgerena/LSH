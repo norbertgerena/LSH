{
 "cells": [
  {
   "cell_type": "markdown",
   "id": "f9a1648d",
   "metadata": {},
   "source": [
    "# Locality-Sensitive Hashing and Functions\n",
    "\n",
    "Prepared by: Norbert Paul R. Gerena"
   ]
  },
  {
   "cell_type": "code",
   "execution_count": 10,
   "id": "0f79ea3b",
   "metadata": {
    "ExecuteTime": {
     "end_time": "2023-01-16T08:53:25.913834Z",
     "start_time": "2023-01-16T08:53:25.907529Z"
    }
   },
   "outputs": [],
   "source": [
    "import matplotlib.pyplot as plt\n",
    "import numpy as np"
   ]
  },
  {
   "cell_type": "markdown",
   "id": "c503e751",
   "metadata": {},
   "source": [
    "## Flow of Discussion\n",
    "\n",
    "1. Introduction and Motivation to LSH\n",
    "2. Review of hashing and MinHash Signature Matrix\n",
    "3. LSH for Jaccard Distance\n",
    "4. Generalizing LSH\n",
    "6. Putting it all together\n",
    "5. Applications"
   ]
  },
  {
   "cell_type": "markdown",
   "id": "b177284a",
   "metadata": {},
   "source": [
    "## I. Introduction\n",
    "\n",
    "In this notebook, we will be discussing Locality-Sensitive Hashing (LSH) and its applications.\n",
    "\n",
    "**Why do we want locality**\n",
    "\n",
    "A lot of applications in data science require a notion of distance and similarity. Here are some examples:\n",
    " * Clustering\n",
    " * Information retrieval\n",
    " \n",
    "\n",
    "**Why not just compute similarity as needed?**\n",
    "\n",
    "If we have n documents to compare, then it would take us $n \\choose 2$ pairwise evaluation of distances. If we have massive amount of documents, we do not want to evaluate the distances of all pairs, we want to have some sort of \"initial filtering\" of potentially similar documents.\n",
    "\n",
    "**Why use hashing?**\n",
    "\n",
    "We only have to do hashing once. It can add to the overhead but it can make things more efficient later on since it can speed up the search."
   ]
  },
  {
   "cell_type": "markdown",
   "id": "b2445175",
   "metadata": {},
   "source": [
    "## II. Review of Hashing and MinHash Signature Matrix\n",
    "\n",
    "### Hashing\n",
    "\n",
    "A hash function is any function that can be used to map data of arbitrary size to fixed-size values. In the context of LSH, a hash function takes two sets, $x$ and $y$, and returns a decision whether these two sets are candidate for comparison.\n",
    "\n",
    "### MinHash Signature Matrix\n",
    "\n",
    "Jaccard Sim (shingles) $\\approx$ Hamming Sim (signature matrix). The Hamming similarity of a two vectors is the proportion of equal components of the vectors."
   ]
  },
  {
   "cell_type": "markdown",
   "id": "c41ad61e",
   "metadata": {},
   "source": [
    "## III. LSH for Jaccard Distance (Using the MinHash Signature Matrix) \n",
    "\n",
    "**General Idea:** For a huge set of elements, we do not want to evaluate the similarity of every pair of elements. Our goal for LSH is to generate from these collection of elements, a small list of potentially similar pairs or candidate pairs. We can then evaluate the similarity of these candidate pairs.\n",
    "\n",
    "### LSH for MinHash Signature Matrix\n",
    "\n",
    "1. Divide the signature matrix $M$ into $b$ bands and $r$ rows per band.\n",
    "\n",
    "![](images/lsh1.png)\n",
    "\n",
    "2. Per band, apply a hash function. We can use the same hash function for all bands but each band must have its own hash table.\n",
    "\n",
    "![](images/lsh2.png)\n",
    "\n",
    "3. Candidate column pairs are those that hash to the same bucket for $\\ge$ 1 band\n",
    "\n",
    "**Let's look at the math of the LSH function described above**\n",
    "\n",
    "1. Let's assume that columns $C_1$ and $C_2$ have similarity $s$.\n",
    "2. The probability that row n of $C_1$ and row n of $C_2$ are equal is approximately $s$, since we are dealing with the MinHash Signature.\n",
    "3. Within a band, the probability that all rows are equal is $s^r$. Conversely, the probability that some rows are not equal is $1-s^r$.\n",
    "4. The probability that no bands are identical is $(1-s^r)^b$\n",
    "5. Finally, the probability that at least 1 band is identical is $1-(1-s^r)^b$\n",
    "\n",
    "Let's look at the characteristics of this function."
   ]
  },
  {
   "cell_type": "code",
   "execution_count": 77,
   "id": "d9d41ecf",
   "metadata": {
    "ExecuteTime": {
     "end_time": "2023-01-16T11:30:47.026393Z",
     "start_time": "2023-01-16T11:30:46.861265Z"
    }
   },
   "outputs": [
    {
     "data": {
      "image/png": "[encoded data removed]",
      "text/plain": [
       "<Figure size 432x288 with 1 Axes>"
      ]
     },
     "metadata": {
      "needs_background": "light"
     },
     "output_type": "display_data"
    }
   ],
   "source": [
    "#relationship of r and b to the s-curve\n",
    "r = 4\n",
    "b = 250\n",
    "\n",
    "def sfunc(x, r, b):\n",
    "    return 1 - (1-x**r)**b\n",
    "\n",
    "xs = np.arange(0,1.01, 0.01)\n",
    "ys = list(map(lambda x: sfunc(x, r, b), xs))\n",
    "plt.plot(xs, ys)\n",
    "plt.title('The S-curve ($1-(1-s^r)^b$)');\n",
    "plt.xlabel('Similarity')\n",
    "plt.ylabel('Prob. sharing a bucket')\n",
    "\n",
    "t = (1/b)**(1/r) #the treshold depends on b and r\n",
    "plt.axvline(t, c='r');"
   ]
  },
  {
   "cell_type": "markdown",
   "id": "92f8f7e0",
   "metadata": {},
   "source": [
    "If the size of the signature matrix is fixed we can find the combination of r and b such that the similarity threshold $t$ is near $(1/b)^{(1/r)}$. We can make this lower than $t$ if we want to reduce the false negatives. Note that this can increase the false positives, hence we have to evaluate more pairs.\n",
    "\n",
    "* Larger $r$ means we want higher similarity\n",
    "* Lager $b$ means a higher  chance that a pair will be a candidate pair"
   ]
  },
  {
   "cell_type": "markdown",
   "id": "ce8a2e16",
   "metadata": {},
   "source": [
    "### The Ideal S-Curve\n",
    "\n",
    "![](images/idealcurve.png)"
   ]
  },
  {
   "cell_type": "markdown",
   "id": "4126abf4",
   "metadata": {},
   "source": [
    "We want a steep S-curve!"
   ]
  },
  {
   "cell_type": "markdown",
   "id": "ce493483",
   "metadata": {},
   "source": [
    "## IV. General LSH\n",
    "\n",
    "The procedure described in the previous section is not the only LSH function. \n",
    "\n",
    "Can we use different similarity metric asside from Jaccard?\n",
    "\n",
    "Can we apply OR on rows first then AND on buckets?\n",
    "\n",
    "Yes, we can generalize LSH!"
   ]
  },
  {
   "cell_type": "markdown",
   "id": "5bbc1458",
   "metadata": {},
   "source": [
    "### LSH Families of Hash Functions\n",
    "\n",
    "Again, hash functions in the context of LSH is bit different.\n",
    "\n",
    "An LSH hash function takes two sets, $x$ and $y$, and returns a decision whether these two sets are candidate for comparison.\n",
    "\n",
    "For example, given a set of minhash functions $h$, we can have a simple LSH function such that if $h(x)=h(y)$, then $x$ and $y$ are candidate pairs.\n",
    "\n",
    "We will use this shorthand $h(x)=h(y)$, to mean that \"h says yes\".\n",
    "#### LSH Family Definition\n",
    "\n",
    "Suppose we have a metric space with a set of points $S$ and a distance metric $d$.\n",
    "\n",
    "A family $H$ of hash functions is said to be $(d_1, d_2, p_1, p_2)$-sensitive if for any points $x,y \\in S$:\n",
    "\n",
    "1. If $d(x,y)\\le d_1$, then the probability over all $h$ in $H$, that $h(x)=h(y)$ is at least $p_1$.\n",
    "2. If $d(x,y)\\ge d_2$, then the probability over all $h$ in $H$, that $h(x)=h(y)$ is at most $p_2$.\n",
    "\n",
    "Note that $d_1 < d_2$.\n",
    "\n",
    "![](images/generalcurve.png)\n",
    "\n",
    "* We want $d_1$ and $d_2$ to be as close as possible while maintaining a big gap in $p_1$ and $p_2$."
   ]
  },
  {
   "cell_type": "markdown",
   "id": "4ef7de03",
   "metadata": {},
   "source": [
    "**Let's look at the LSH-Family using Jaccard Distance**\n",
    "\n",
    "For a set of points S and d equal to the Jaccard distance. We can construct a family of minhash functions $H$ consisting of all permutations, such that $H$ is a $(d_1, d_2,1-d_1, 1-d_2)$-sensitive family for S and d.\n",
    "\n",
    "This LSH family will not give us the ideal curve. \n",
    "\n",
    "Why?\n",
    "\n",
    "### Amplifying the S-Curve\n",
    "\n",
    "Recall our shorthand, $h(x)=h(y)$. We can make the definition of LSH family more general by making this definition more flexible.\n",
    "\n",
    "For example we can have an **AND-construction** from the original set $H$ to generate a new family $H'$:\n",
    "\n",
    "1. Suppose $H$ consists of $\\{h_1, h_2, h_3, ...\\}$, we can construct $H'=\\{ h'_1, h'_2, h'_3,...\\}$, such that $h' = \\{ h_1,...,h_r\\}$.\n",
    "2. Now, $h'(x)=h'(y)$ if and only if $h_i(x)=h_i(y)$ for all $i$.\n",
    "\n",
    "What's the sensitivity of $H'$?\n",
    "\n",
    "$(d_1, d_2, (1-d_1)^r, (1-d_2)^r)$"
   ]
  },
  {
   "cell_type": "code",
   "execution_count": 79,
   "id": "8e4158fb",
   "metadata": {
    "ExecuteTime": {
     "end_time": "2023-01-16T11:47:18.222096Z",
     "start_time": "2023-01-16T11:47:18.100088Z"
    }
   },
   "outputs": [
    {
     "data": {
      "image/png": "[encoded data removed]",
      "text/plain": [
       "<Figure size 432x288 with 1 Axes>"
      ]
     },
     "metadata": {
      "needs_background": "light"
     },
     "output_type": "display_data"
    }
   ],
   "source": [
    "r = 3\n",
    "xs = np.arange(0,1.01,0.1)\n",
    "ys = list(map(lambda x: (1-x)**r,xs))\n",
    "plt.plot(xs,ys);"
   ]
  },
  {
   "cell_type": "markdown",
   "id": "3d747912",
   "metadata": {},
   "source": [
    "* The **AND-construction** makes the probability of $d_2$ closer to zero. Meaning, we are reducing the false positives.\n",
    "* Tweak $r$ such that the the desired $d_2$ will have a very small probability"
   ]
  },
  {
   "cell_type": "markdown",
   "id": "12ba9920",
   "metadata": {},
   "source": [
    "**OR-Construction**\n",
    "\n",
    "1. Suppose $H$ consists of $\\{h_1, h_2, h_3, ...\\}$, we can construct $H'=\\{ h'_1, h'_2, h'_3,...\\}$, such that $h' = \\{ h_1,...,h_b\\}$.\n",
    "2. Now, $h'(x)=h'(y)$ if and only if $h_i(x)=h_i(y)$ for for at least 1 $i$.\n",
    "\n",
    "What's the sensitivity of $H'$?\n",
    "\n",
    "$(d_1, d_2, 1-(d_1)^b, 1-(d_2)^b)$"
   ]
  },
  {
   "cell_type": "code",
   "execution_count": 13,
   "id": "1afef510",
   "metadata": {
    "ExecuteTime": {
     "end_time": "2023-01-16T08:53:35.836331Z",
     "start_time": "2023-01-16T08:53:35.693353Z"
    }
   },
   "outputs": [
    {
     "data": {
      "image/png": "[encoded data removed]",
      "text/plain": [
       "<Figure size 432x288 with 1 Axes>"
      ]
     },
     "metadata": {
      "needs_background": "light"
     },
     "output_type": "display_data"
    }
   ],
   "source": [
    "b = 5\n",
    "xs = np.arange(0,1.01,0.1)\n",
    "ys = list(map(lambda x: 1-x**b,xs))\n",
    "plt.plot(xs,ys);"
   ]
  },
  {
   "cell_type": "markdown",
   "id": "405fb873",
   "metadata": {},
   "source": [
    "* The **OR-construction** makes the probability of $d_1$ closer to 1. Meaning, we are decreasing the false negatives.\n",
    "* Tweak $b$ such that the the desired $d_1$ will have a very high probability"
   ]
  },
  {
   "cell_type": "markdown",
   "id": "3b3c21d0",
   "metadata": {},
   "source": [
    "### Composing Constructions\n",
    "\n",
    "The **AND-construction** and the **OR-construction** by themselves can not give us the ideal S-curve that we want. We can compose an **AND-OR construction** as described in the **LSH for MinHash Signature Matrix** example.\n",
    "\n",
    "In that example, we were able to create a LSH Family with a sensitivity of $(d_1, d_2, 1-(1-(1-d_1)^r)^b, 1-(1-(1-d_2)^r)^b)$"
   ]
  },
  {
   "cell_type": "code",
   "execution_count": 14,
   "id": "e878418f",
   "metadata": {
    "ExecuteTime": {
     "end_time": "2023-01-16T08:53:37.338952Z",
     "start_time": "2023-01-16T08:53:37.138755Z"
    }
   },
   "outputs": [
    {
     "data": {
      "image/png": "[encoded data removed]",
      "text/plain": [
       "<Figure size 432x288 with 1 Axes>"
      ]
     },
     "metadata": {
      "needs_background": "light"
     },
     "output_type": "display_data"
    }
   ],
   "source": [
    "r= 5\n",
    "b = 10\n",
    "xs = np.arange(0,1.01,0.1)\n",
    "ys = list(map(lambda x: 1-(1-(1-x)**r)**b,xs))\n",
    "plt.plot(xs,ys);"
   ]
  },
  {
   "cell_type": "markdown",
   "id": "072ddbeb",
   "metadata": {},
   "source": [
    "* We can make the S-curve even better by cascading the constructions. However this means more memory usage since we need to construct more hash tables."
   ]
  },
  {
   "cell_type": "markdown",
   "id": "a8f25e38",
   "metadata": {},
   "source": [
    "### LSH Families for Other Distance Metrics\n",
    "\n",
    "So far we have constructed several LSH Families from the family of MinHash functions (which approximates the Jaccard distance).\n",
    "\n",
    "How can we construct a family of hash functions for other distance metrics?\n",
    "\n",
    "#### Review of Distance Metrics\n",
    "\n",
    "Definition:\n",
    "\n",
    "Suppose with have a space $S$, consisting of points. The distance measure is $d(x,y)$ takes two points, $x,y \\in S$ and produces a real number and satisfies the following:\n",
    "\n",
    "1. $d(x,y) \\ge 0$ \n",
    "2. $d(x,y) = 0$ if and only if $x=y$\n",
    "3. $d(x,y) = d(y,x)$\n",
    "4. $d(x,y) \\le d(x,z) + d(z,y)$ \n",
    "\n",
    "**Examples**\n",
    "\n",
    "1. Euclidean distance\n",
    "2. Cosine distance\n",
    "3. Hamming distance\n",
    "\n",
    "#### LSH for Euclidean Distance\n",
    "\n",
    "**Goal:** Create a hash function that will be applied per element. After the hashing, the elements that are potentially similar, with respect to the chosen distance metric, will be in the same bucket of the hash table.\n",
    "\n",
    "**Hash function via projection into a random line**\n",
    "\n",
    "Consider the simple 2-D case.\n",
    "\n",
    "![](images/euclsh.png)"
   ]
  },
  {
   "cell_type": "markdown",
   "id": "ab009854",
   "metadata": {},
   "source": [
    "* The hash function $h$ is constructed by creating a random line in space with a predefined bucket width $a$.\n",
    "* A point will be stored in the bucket where it was projected on the random line.\n",
    "* Given a set of hash functions (each with $a$ and random line equation), this is an LSH family with $ (a/2, 2a, 1/2, 1/3)$-sensitivity.\n",
    "* We can again apply **AND-OR** construction to improve the S-curve."
   ]
  },
  {
   "cell_type": "markdown",
   "id": "f29a01f0",
   "metadata": {},
   "source": [
    "Can you think of hash function for Hamming distance?"
   ]
  },
  {
   "cell_type": "markdown",
   "id": "77b42b26",
   "metadata": {},
   "source": [
    "## V. Putting it all together\n",
    "\n",
    "![](images/bigpic.png)"
   ]
  },
  {
   "cell_type": "markdown",
   "id": "b79f8fc3",
   "metadata": {},
   "source": [
    "* Depending on the desired distance metric, hashing can be done via:\n",
    "    * MinHashing for Jaccard distance\n",
    "    * Random line projection and bucketing for Euclidean distance\n",
    "    * Random hyperplanes projection/sketches for Cosine distance\n",
    "    \n",
    "* Applying these hash functions will usually result in signatures that are shorter in length than the original matrix.\n",
    "* Using these hash functions alone will usually not give us the ideal S-curve\n",
    "* To improve the s-curve we can construct a new family of hash functions via the composition and cascading of **AND-construction** and **OR-construction** until we are satisfied with its sensitivity.\n",
    "* We can stop with the resulting candidate pairs or we can evaluate their similarity to filter our target documents."
   ]
  },
  {
   "cell_type": "markdown",
   "id": "cc7a4ac9",
   "metadata": {},
   "source": [
    "## VI. Applications of LSH\n",
    "\n",
    "In the book [1], some of the example applications of LSH are:\n",
    "\n",
    "1. Entity Resolution\n",
    "2. Matching Newspaper Articles"
   ]
  },
  {
   "cell_type": "code",
   "execution_count": 17,
   "id": "970a0c52",
   "metadata": {
    "ExecuteTime": {
     "end_time": "2023-02-06T01:42:05.938305Z",
     "start_time": "2023-02-06T01:42:05.346367Z"
    }
   },
   "outputs": [],
   "source": [
    "from nltk.tokenize import word_tokenize\n",
    "from sklearn.datasets import load_wine, fetch_20newsgroups"
   ]
  },
  {
   "cell_type": "code",
   "execution_count": 197,
   "id": "e80a6214",
   "metadata": {
    "ExecuteTime": {
     "end_time": "2023-02-08T07:15:18.101925Z",
     "start_time": "2023-02-08T07:15:16.841006Z"
    }
   },
   "outputs": [],
   "source": [
    "data_newsgroups = fetch_20newsgroups(\n",
    "    subset='train', \n",
    "    categories=None,#['comp.graphics', 'rec.autos'],\n",
    "    shuffle=False, \n",
    "    remove=['headers', 'footers', 'quotes'])\n",
    "data = data_newsgroups['data']"
   ]
  },
  {
   "cell_type": "code",
   "execution_count": 19,
   "id": "8b198abb",
   "metadata": {
    "ExecuteTime": {
     "end_time": "2023-02-06T01:42:12.338308Z",
     "start_time": "2023-02-06T01:42:08.592261Z"
    }
   },
   "outputs": [
    {
     "name": "stderr",
     "output_type": "stream",
     "text": [
      "WARNING: An illegal reflective access operation has occurred\n",
      "WARNING: Illegal reflective access by org.apache.spark.unsafe.Platform (file:/usr/local/spark-3.1.2-bin-hadoop3.2/jars/spark-unsafe_2.12-3.1.2.jar) to constructor java.nio.DirectByteBuffer(long,int)\n",
      "WARNING: Please consider reporting this to the maintainers of org.apache.spark.unsafe.Platform\n",
      "WARNING: Use --illegal-access=warn to enable warnings of further illegal reflective access operations\n",
      "WARNING: All illegal access operations will be denied in a future release\n",
      "23/02/06 01:42:10 WARN NativeCodeLoader: Unable to load native-hadoop library for your platform... using builtin-java classes where applicable\n",
      "Using Spark's default log4j profile: org/apache/spark/log4j-defaults.properties\n",
      "Setting default log level to \"WARN\".\n",
      "To adjust logging level use sc.setLogLevel(newLevel). For SparkR, use setLogLevel(newLevel).\n"
     ]
    }
   ],
   "source": [
    "from pyspark import SparkContext\n",
    "\n",
    "sc = SparkContext()"
   ]
  },
  {
   "cell_type": "code",
   "execution_count": 184,
   "id": "87766a28",
   "metadata": {
    "ExecuteTime": {
     "end_time": "2023-02-08T06:41:48.427635Z",
     "start_time": "2023-02-08T06:41:48.385962Z"
    }
   },
   "outputs": [],
   "source": [
    "texts = (sc.wholeTextFiles('/mnt/data/public/gutenberg/1/1/1/*/*/?????.txt'))"
   ]
  },
  {
   "cell_type": "code",
   "execution_count": 185,
   "id": "e2276cf4",
   "metadata": {
    "ExecuteTime": {
     "end_time": "2023-02-08T06:41:56.353600Z",
     "start_time": "2023-02-08T06:41:48.925648Z"
    }
   },
   "outputs": [
    {
     "name": "stderr",
     "output_type": "stream",
     "text": [
      "                                                                                \r"
     ]
    },
    {
     "data": {
      "text/plain": [
       "96"
      ]
     },
     "execution_count": 185,
     "metadata": {},
     "output_type": "execute_result"
    },
    {
     "name": "stderr",
     "output_type": "stream",
     "text": [
      "\r",
      "[Stage 148:>                                                        (0 + 1) / 1]\r"
     ]
    }
   ],
   "source": [
    "texts.count()"
   ]
  },
  {
   "cell_type": "code",
   "execution_count": 201,
   "id": "81a9b225",
   "metadata": {
    "ExecuteTime": {
     "end_time": "2023-02-08T07:19:01.642604Z",
     "start_time": "2023-02-08T07:19:01.633682Z"
    }
   },
   "outputs": [],
   "source": [
    "minHashed = texts.mapValues(lambda s: word_tokenize(s)).mapValues(lambda s: sig.sign(s))"
   ]
  },
  {
   "cell_type": "code",
   "execution_count": 225,
   "id": "12355597",
   "metadata": {
    "ExecuteTime": {
     "end_time": "2023-02-08T08:36:33.759590Z",
     "start_time": "2023-02-08T08:36:14.457370Z"
    }
   },
   "outputs": [
    {
     "name": "stderr",
     "output_type": "stream",
     "text": [
      "                                                                                \r"
     ]
    },
    {
     "data": {
      "text/plain": [
       "[('file:/mnt/data/public/gutenberg/1/1/1/0/11100/11100.txt',\n",
       "  [-1924275899946411142,\n",
       "   5543244265878867294,\n",
       "   -8821916905136539093,\n",
       "   8025132904793161215,\n",
       "   -4491693916500386011,\n",
       "   7225620602243390950,\n",
       "   6278862911897480642,\n",
       "   5703536231261297067,\n",
       "   4343715519722334528,\n",
       "   -8528561963276481359,\n",
       "   3395996876261406367,\n",
       "   240098548252534138,\n",
       "   -263975870605852516,\n",
       "   -8621529406472440154,\n",
       "   -1792285223418787760,\n",
       "   -1228530806977869070,\n",
       "   -8227588960051929810,\n",
       "   -8761154491639846629,\n",
       "   -5833796065310335206,\n",
       "   5368479758661758014,\n",
       "   -6281925384922071815,\n",
       "   3188210969908710248,\n",
       "   -6255188373741880750,\n",
       "   -6229827228889285217,\n",
       "   -3313987983763965792])]"
      ]
     },
     "execution_count": 225,
     "metadata": {},
     "output_type": "execute_result"
    }
   ],
   "source": [
    "def hash_per_band(sig, b):\n",
    "    hashed = []\n",
    "    for band in zip(*(iter(sig),) * b):\n",
    "        hashed.append(hash(band))\n",
    "    return hashed\n",
    "\n",
    "hashed_per_band = minHashed.mapValues(lambda sig: hash_per_band(sig,4))\n",
    "hashed_per_band.take(1)"
   ]
  },
  {
   "cell_type": "code",
   "execution_count": 226,
   "id": "5684c031",
   "metadata": {
    "ExecuteTime": {
     "end_time": "2023-02-08T08:39:49.419144Z",
     "start_time": "2023-02-08T08:36:38.243510Z"
    }
   },
   "outputs": [
    {
     "name": "stderr",
     "output_type": "stream",
     "text": [
      "                                                                                \r"
     ]
    },
    {
     "data": {
      "text/plain": [
       "[(7709525042361206601,\n",
       "  ['file:/mnt/data/public/gutenberg/1/1/1/0/11103/11103.txt',\n",
       "   'file:/mnt/data/public/gutenberg/1/1/1/1/11117/11117.txt',\n",
       "   'file:/mnt/data/public/gutenberg/1/1/1/5/11155/11155.txt']),\n",
       " (-3477787748629620043,\n",
       "  ['file:/mnt/data/public/gutenberg/1/1/1/0/11103/11103.txt',\n",
       "   'file:/mnt/data/public/gutenberg/1/1/1/4/11141/11141.txt',\n",
       "   'file:/mnt/data/public/gutenberg/1/1/1/7/11173/11173.txt',\n",
       "   'file:/mnt/data/public/gutenberg/1/1/1/8/11180/11180.txt']),\n",
       " (-5102229227738459110,\n",
       "  ['file:/mnt/data/public/gutenberg/1/1/1/0/11105/11105.txt',\n",
       "   'file:/mnt/data/public/gutenberg/1/1/1/2/11127/11127.txt',\n",
       "   'file:/mnt/data/public/gutenberg/1/1/1/6/11162/11162.txt',\n",
       "   'file:/mnt/data/public/gutenberg/1/1/1/8/11182/11182.txt']),\n",
       " (6235679427626599058,\n",
       "  ['file:/mnt/data/public/gutenberg/1/1/1/0/11105/11105.txt',\n",
       "   'file:/mnt/data/public/gutenberg/1/1/1/8/11186/11186.txt',\n",
       "   'file:/mnt/data/public/gutenberg/1/1/1/8/11187/11187.txt']),\n",
       " (3393452311701492771,\n",
       "  ['file:/mnt/data/public/gutenberg/1/1/1/0/11105/11105.txt',\n",
       "   'file:/mnt/data/public/gutenberg/1/1/1/8/11182/11182.txt',\n",
       "   'file:/mnt/data/public/gutenberg/1/1/1/8/11183/11183.txt']),\n",
       " (5105659887141407164,\n",
       "  ['file:/mnt/data/public/gutenberg/1/1/1/0/11105/11105.txt',\n",
       "   'file:/mnt/data/public/gutenberg/1/1/1/7/11172/11172.txt',\n",
       "   'file:/mnt/data/public/gutenberg/1/1/1/8/11181/11181.txt',\n",
       "   'file:/mnt/data/public/gutenberg/1/1/1/8/11182/11182.txt',\n",
       "   'file:/mnt/data/public/gutenberg/1/1/1/8/11189/11189.txt']),\n",
       " (4623382797681345010,\n",
       "  ['file:/mnt/data/public/gutenberg/1/1/1/0/11107/11107.txt',\n",
       "   'file:/mnt/data/public/gutenberg/1/1/1/2/11121/11121.txt',\n",
       "   'file:/mnt/data/public/gutenberg/1/1/1/2/11129/11129.txt',\n",
       "   'file:/mnt/data/public/gutenberg/1/1/1/7/11171/11171.txt']),\n",
       " (-7602082680518550131,\n",
       "  ['file:/mnt/data/public/gutenberg/1/1/1/1/11110/11110.txt',\n",
       "   'file:/mnt/data/public/gutenberg/1/1/1/2/11126/11126.txt',\n",
       "   'file:/mnt/data/public/gutenberg/1/1/1/5/11151/11151.txt']),\n",
       " (3490507362350892909,\n",
       "  ['file:/mnt/data/public/gutenberg/1/1/1/1/11111/11111.txt',\n",
       "   'file:/mnt/data/public/gutenberg/1/1/1/4/11140/11140.txt',\n",
       "   'file:/mnt/data/public/gutenberg/1/1/1/6/11169/11169.txt']),\n",
       " (-7893293473141407009,\n",
       "  ['file:/mnt/data/public/gutenberg/1/1/1/2/11120/11120.txt',\n",
       "   'file:/mnt/data/public/gutenberg/1/1/1/4/11148/11148.txt',\n",
       "   'file:/mnt/data/public/gutenberg/1/1/1/8/11182/11182.txt'])]"
      ]
     },
     "execution_count": 226,
     "metadata": {},
     "output_type": "execute_result"
    }
   ],
   "source": [
    "#make the hashed bands as keys then reduce\n",
    "(hashed_per_band.flatMap(lambda x: [(h, [x[0]]) for h in x[1]])\n",
    " .reduceByKey(lambda x,y: x+y).filter(lambda x: len(x[1]) > 2).take(10))"
   ]
  },
  {
   "cell_type": "code",
   "execution_count": null,
   "id": "b72cfe20",
   "metadata": {},
   "outputs": [],
   "source": [
    "# calculate false positive, negative"
   ]
  },
  {
   "cell_type": "code",
   "execution_count": 242,
   "id": "d77bebf8",
   "metadata": {
    "ExecuteTime": {
     "end_time": "2023-02-08T08:48:50.858682Z",
     "start_time": "2023-02-08T08:48:50.851602Z"
    }
   },
   "outputs": [],
   "source": [
    "def jaccard(u,v):\n",
    "    return len(set(u).intersection(v))/len(set(u).union(v))"
   ]
  },
  {
   "cell_type": "code",
   "execution_count": 245,
   "id": "2f31759b",
   "metadata": {
    "ExecuteTime": {
     "end_time": "2023-02-08T08:51:42.467818Z",
     "start_time": "2023-02-08T08:51:42.457995Z"
    }
   },
   "outputs": [],
   "source": [
    "def jaccard_files(f1, f2):\n",
    "    with open(f1) as file1:\n",
    "        text1 = file1.read()\n",
    "    with open(f2) as file2:\n",
    "        text2 = file2.read()\n",
    "    \n",
    "    ngram1 = word_tokenize(text1)\n",
    "    ngram2  = word_tokenize(text2)\n",
    "    return jaccard(ngram1, ngram2)"
   ]
  },
  {
   "cell_type": "code",
   "execution_count": 250,
   "id": "6f78816a",
   "metadata": {
    "ExecuteTime": {
     "end_time": "2023-02-08T08:53:18.866911Z",
     "start_time": "2023-02-08T08:53:18.740814Z"
    }
   },
   "outputs": [
    {
     "data": {
      "text/plain": [
       "0.6110800223838836"
      ]
     },
     "execution_count": 250,
     "metadata": {},
     "output_type": "execute_result"
    }
   ],
   "source": [
    "jaccard_files('/mnt/data/public/gutenberg/1/1/1/0/11105/11105.txt', '/mnt/data/public/gutenberg/1/1/1/6/11162/11162.txt')"
   ]
  },
  {
   "cell_type": "code",
   "execution_count": 200,
   "id": "4382584c",
   "metadata": {
    "ExecuteTime": {
     "end_time": "2023-02-08T07:18:59.330476Z",
     "start_time": "2023-02-08T07:18:59.323493Z"
    }
   },
   "outputs": [],
   "source": [
    "sig = MinHashSignature(100)"
   ]
  },
  {
   "cell_type": "code",
   "execution_count": 166,
   "id": "0d3c7447",
   "metadata": {
    "ExecuteTime": {
     "end_time": "2023-02-08T06:34:42.387880Z",
     "start_time": "2023-02-08T06:34:42.354931Z"
    }
   },
   "outputs": [],
   "source": [
    "#codes from https://github.com/go2starr/lshhdc\n",
    "\n",
    "from collections import defaultdict\n",
    "\n",
    "from unionfind import *\n",
    "\n",
    "\n",
    "class Signature(object):\n",
    "    \"\"\"Signature Base class.\"\"\"\n",
    "\n",
    "    def __init__(self, dim):\n",
    "        self.dim = dim\n",
    "        self.hashes = self.hash_functions()\n",
    "\n",
    "    def hash_functions(self):\n",
    "        \"\"\"Returns dim different hash functions\"\"\"\n",
    "        pass\n",
    "\n",
    "    def sign(self, object):\n",
    "        \"\"\"Return the signature for object s\"\"\"\n",
    "        pass\n",
    "\n",
    "\n",
    "class MinHashSignature(Signature):\n",
    "    \"\"\"Creates signatures for sets/tuples using minhash.\"\"\"\n",
    "\n",
    "    def hash_functions(self):\n",
    "        \"\"\"Return dim different hash functions\"\"\"\n",
    "        def hash_factory(n):\n",
    "            return lambda x: hash(\"salt\" + str(n) + str(x) + \"salt\")\n",
    "        return [ hash_factory(_) for _ in range(self.dim) ]\n",
    "\n",
    "    def sign(self, s):\n",
    "        \"\"\"Returns minhash signature for set s\"\"\"\n",
    "        sig = [ float(\"inf\") ] * self.dim\n",
    "        for hash_ix, hash_fn in enumerate(self.hashes):\n",
    "            sig[hash_ix] = min(hash_fn(value) for value in s)\n",
    "        return sig\n",
    "\n",
    "\n",
    "class LSH(object):\n",
    "    \"\"\"Locality sensitive hashing.  Uses a banding approach to hash\n",
    "    similar signatures to the same buckets.\"\"\"\n",
    "    def __init__(self, length, threshold):\n",
    "        self.length = length\n",
    "        self.threshold = threshold\n",
    "        self.bandwidth = self.get_bandwidth(length, threshold)\n",
    "\n",
    "    def hash(self, sig):\n",
    "        \"\"\"Generate hashvals for this signature\"\"\"\n",
    "        for band in zip(*(iter(sig),) * self.bandwidth):\n",
    "            yield hash(\"salt\" + str(band) + \"tlas\")\n",
    "\n",
    "    def get_bandwidth(self, n, t):\n",
    "        \"\"\"Approximates the bandwidth (number of rows in each band)\n",
    "        needed to get threshold.\n",
    "        Threshold t = (1/b) ** (1/r) where\n",
    "        b = #bands\n",
    "        r = #rows per band\n",
    "        n = b * r = #elements in signature\n",
    "        \"\"\"\n",
    "\n",
    "        best = n, 1\n",
    "        minerr  = float(\"inf\")\n",
    "        for r in range(1, n + 1):\n",
    "            try:\n",
    "                b = 1. / (t ** r)\n",
    "            except:             # Divide by zero, your signature is huge\n",
    "                return best\n",
    "            err = abs(n - b * r)\n",
    "            if err < minerr:\n",
    "                best = r\n",
    "                minerr = err\n",
    "        return best\n",
    "\n",
    "    def get_threshold(self):\n",
    "        r = self.bandwidth\n",
    "        b = self.length / r\n",
    "        return (1. / b) ** (1. / r)\n",
    "\n",
    "    def get_n_bands(self):\n",
    "        return int(self.length / self.bandwidth)\n",
    "\n",
    "\n",
    "class Cluster(object):\n",
    "    \"\"\"Clusters sets with Jaccard similarity above threshold with high\n",
    "    probability.\n",
    "    Algorithm based on Rajaraman, \"Mining of Massive Datasets\":\n",
    "    1. Generate set signature\n",
    "    2. Use LSH to map similar signatures to same buckets\n",
    "    3. Use UnionFind to merge buckets containing same values\n",
    "    \"\"\"\n",
    "    def __init__(self, width=10, threshold=0.5):\n",
    "        self.width = width\n",
    "        self.unionfind = UnionFind()\n",
    "        self.signer = MinHashSignature(width)\n",
    "        self.hasher = LSH(width, threshold)\n",
    "        self.hashmaps = [defaultdict(list)\n",
    "                         for _ in range(self.hasher.get_n_bands())]\n",
    "\n",
    "    def add_set(self, s, label=None):\n",
    "        # A label for this set\n",
    "        if not label:\n",
    "            label = s\n",
    "\n",
    "        # Add to unionfind structure\n",
    "        self.unionfind[label]\n",
    "\n",
    "        # Get signature\n",
    "        sig = self.signer.sign(s)\n",
    "\n",
    "        # Union labels with same LSH key in same band\n",
    "        for band_idx, hshval in enumerate(self.hasher.hash(sig)):\n",
    "            self.hashmaps[band_idx][hshval].append(label)\n",
    "            self.unionfind.union(label, self.hashmaps[band_idx][hshval][0])\n",
    "\n",
    "    def get_sets(self):\n",
    "        return self.unionfind.sets()\n",
    "\n",
    "\n",
    "def shingle(s, k):\n",
    "    \"\"\"Generate k-length shingles of string s\"\"\"\n",
    "    k = min(len(s), k)\n",
    "    for i in range(len(s) - k + 1):\n",
    "        yield s[i:i+k]\n",
    "\n",
    "\n",
    "def hshingle(s, k):\n",
    "    \"\"\"Generate k-length shingles then hash\"\"\"\n",
    "    for s in shingle(s, k):\n",
    "        yield hash(s)\n",
    "\n",
    "\n",
    "def jaccard_sim(X, Y):\n",
    "    \"\"\"Jaccard similarity between two sets\"\"\"\n",
    "    x = set(X)\n",
    "    y = set(Y)\n",
    "    return float(len(x & y)) / len(x | y)\n",
    "\n",
    "\n",
    "def jaccard_dist(X, Y):\n",
    "    \"\"\"Jaccard distance between two sets\"\"\"\n",
    "    return 1 - jaccard_sim(X, Y)"
   ]
  },
  {
   "cell_type": "code",
   "execution_count": null,
   "id": "58c52013",
   "metadata": {},
   "outputs": [],
   "source": []
  },
  {
   "cell_type": "markdown",
   "id": "8640479c",
   "metadata": {},
   "source": [
    "## References\n",
    "\n",
    "1. Jure Leskovec , Anand Rajaraman, and Jeffrey D Ullman. *Mining of massive datasets*.Cambridge university press, 3rd edition, 2019. URL http://www.mmds.org/, chapter 3.\n",
    "\n",
    "2. Jure Leskovec , Anand Rajaraman, and Jeffrey D Ullman, *Finding Similar Items: Locality Sensitive Hashing* [PowerPoint slides]. http://infolab.stanford.edu/~ullman/mmds/ch3n.pdf."
   ]
  }
 ],
 "metadata": {
  "kernelspec": {
   "display_name": "Python 3 (ipykernel)",
   "language": "python",
   "name": "python3"
  },
  "language_info": {
   "codemirror_mode": {
    "name": "ipython",
    "version": 3
   },
   "file_extension": ".py",
   "mimetype": "text/x-python",
   "name": "python",
   "nbconvert_exporter": "python",
   "pygments_lexer": "ipython3",
   "version": "3.9.13"
  }
 },
 "nbformat": 4,
 "nbformat_minor": 5
}
